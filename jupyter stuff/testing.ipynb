{
 "cells": [
  {
   "cell_type": "code",
   "execution_count": 39,
   "metadata": {
    "scrolled": true
   },
   "outputs": [
    {
     "name": "stdout",
     "output_type": "stream",
     "text": [
      "\n",
      "Windsa Street, Rustenburg Ward 20, Rustenburg Local Municipality, Bojanala Platinum District Municipality, North West, South Africa\n",
      "\n",
      "-25.6107991 27.3109892\n",
      "\n",
      "25 36m 38.8768s S, 27 18m 39.5611s E\n",
      "\n",
      "{'place_id': 123271941, 'licence': 'Data © OpenStreetMap contributors, ODbL 1.0. https://osm.org/copyright', 'osm_type': 'way', 'osm_id': 164454365, 'boundingbox': ['-25.6112386', '-25.6107991', '27.3107939', '27.3109892'], 'lat': '-25.6107991', 'lon': '27.3109892', 'display_name': 'Windsa Street, Rustenburg Ward 20, Rustenburg Local Municipality, Bojanala Platinum District Municipality, North West, South Africa', 'class': 'highway', 'type': 'residential', 'importance': 0.7000000000000001}\n"
     ]
    }
   ],
   "source": [
    "from geopy.geocoders import Nominatim as n\n",
    "\n",
    "geolocator = n(user_agent = \"O kae\")\n",
    "\n",
    "location = geolocator.geocode(\"2378 windsa st, North West, South Africa\")\n",
    "\n",
    "\n",
    "print(\"\")\n",
    "print(location.address)\n",
    "print(\"\")\n",
    "print(location.latitude, location.longitude)\n",
    "print(\"\")\n",
    "print(location.point)\n",
    "print(\"\")\n",
    "print(location.raw)\n",
    "# print(dir(location))"
   ]
  },
  {
   "cell_type": "code",
   "execution_count": null,
   "metadata": {},
   "outputs": [],
   "source": []
  }
 ],
 "metadata": {
  "kernelspec": {
   "display_name": "Python 3",
   "language": "python",
   "name": "python3"
  },
  "language_info": {
   "codemirror_mode": {
    "name": "ipython",
    "version": 3
   },
   "file_extension": ".py",
   "mimetype": "text/x-python",
   "name": "python",
   "nbconvert_exporter": "python",
   "pygments_lexer": "ipython3",
   "version": "3.8.5"
  }
 },
 "nbformat": 4,
 "nbformat_minor": 4
}
